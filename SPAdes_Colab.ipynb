{
  "cells": [
    {
      "cell_type": "markdown",
      "metadata": {
        "id": "bUcVc7S-pHQJ"
      },
      "source": [
        "# SPAdes Colab\n",
        "Run the cells top to bottom by clicking the play buttons.\n"
      ]
    },
    {
      "cell_type": "markdown",
      "metadata": {
        "id": "CDZmnGrrIGF7"
      },
      "source": [
        "## Install SPAdes\n",
        "##### This process can take 15-25 minutes, or longer, during which time your computer may slow down because of the stream of messages going across the internet, to tell you of the progress being made. It is possible to eliminate such messages by appending > /dev/null 2>&1 to the command line, but this does not make the process finish any sooner. We therefore kept these messages because they give us an assurance that the process is still running. Once installed, you can run as many assemblies as you wish and not have repeat the installation process. But if you go away for too long, colab may automatically disconnect and all your work will be lost. It's therefore important to occasionally move your mouse to let colab know you are still there, so that it will keep the connection active.\n",
        "https://github.com/ablab/spades#downloading-spades-linux-binaries"
      ]
    },
    {
      "cell_type": "code",
      "execution_count": null,
      "metadata": {
        "id": "ZvVtXpvcF8GB"
      },
      "outputs": [],
      "source": [
        "#2022-10-21 Steven Tang\n",
        "#!wget http://cab.spbu.ru/files/release3.9.0/SPAdes-3.9.0-Linux.tar.gz\n",
        "#!tar -xzf SPAdes-3.9.0-Linux.tar.gz\n",
        "\n",
        "#2023-09-15 Renald Legaspi\n",
        "#Updated: Spades3.9 to 3.15 since that version no longer runs on colab because a different version of python is being implemented.\n",
        "#Fix: No longer installs the Linux tarfile due to segment fault issue. Spades is now being compiled from source.\n",
        "# !wget http://cab.spbu.ru/files/release3.15.5/SPAdes-3.15.5.tar.gz\n",
        "# !tar -xzf SPAdes-3.15.5.tar.gz\n",
        "# !cd SPAdes-3.15.5\n",
        "# !./SPAdes-3.15.5/spades_compile.sh\n",
        "\n",
        "#2023-09-18 Steven Tang\n",
        "#Fix: Use precompiled SPAdes that works with Colab\n",
        "!wget https://github.com/steventango/colab-spades/releases/download/v3.15.5/SPAdes-3.15.5-Colab.tar.gz\n",
        "!tar -xzf SPAdes-3.15.5-Colab.tar.gz\n",
        "\n",
        "\n",
        "from datetime import datetime\n",
        "from google.colab import files\n",
        "from pathlib import Path\n",
        "import subprocess"
      ]
    },
    {
      "cell_type": "markdown",
      "metadata": {
        "id": "2yPp6nEDpDiJ"
      },
      "source": [
        "## Upload Pair End Fasta Files"
      ]
    },
    {
      "cell_type": "markdown",
      "metadata": {
        "id": "QsS2sJ8gpuqt"
      },
      "source": [
        "### Upload PE1"
      ]
    },
    {
      "cell_type": "code",
      "execution_count": null,
      "metadata": {
        "id": "tAKoVppppBWO"
      },
      "outputs": [],
      "source": [
        "pe1 = files.upload()\n",
        "pe1_filename, pe1_data = next(iter(pe1.items()))\n",
        "with open(pe1_filename, 'wb') as f:\n",
        "    f.write(pe1_data)"
      ]
    },
    {
      "cell_type": "markdown",
      "metadata": {
        "id": "yoH6H1QbpxWi"
      },
      "source": [
        "### Upload PE2"
      ]
    },
    {
      "cell_type": "code",
      "execution_count": null,
      "metadata": {
        "id": "DPsexLnPpf24"
      },
      "outputs": [],
      "source": [
        "pe2 = files.upload()\n",
        "pe2_filename, pe2_data = next(iter(pe2.items()))\n",
        "with open(pe2_filename, 'wb') as f:\n",
        "    f.write(pe2_data)"
      ]
    },
    {
      "cell_type": "markdown",
      "metadata": {
        "id": "2RlBOhHMqG4S"
      },
      "source": [
        "## Run SPAdes"
      ]
    },
    {
      "cell_type": "code",
      "execution_count": null,
      "metadata": {
        "id": "XISGW9pqqEoa"
      },
      "outputs": [],
      "source": [
        "# Tries to reduce the number of mismatches and short indels.\n",
        "# Also runs MismatchCorrector: A post processing tool that uses BWA tool.\n",
        "# Recommended mostly for small and/or low complexity genome.\n",
        "\n",
        "#2022-10-21 Steven Tang\n",
        "#careful_mode = True\n",
        "\n",
        "#2023-09-15 Renald Legaspi\n",
        "#Updated: Careful mode may cause the spades.py to crash due to insufficient RAM\n",
        "careful_mode = False\n",
        "\n",
        "#2023-09-15 Renald Legaspi\n",
        "#Colab no longer implements python2; thus 'python /path/spades.py' is used instead of 'python2 /path/spades.py'\n",
        "\n",
        "output_directory = f\"{Path(pe1_filename).stem}_{Path(pe2_filename).stem}_{datetime.now().isoformat()}\"\n",
        "\n",
        "process = subprocess.run(\n",
        "    f'python ./bin/spades.py -1 \"{pe1_filename}\" -2 \"{pe2_filename}\" -o \"{output_directory}\" {\"--careful\" if careful_mode else \"\"}',\n",
        "    capture_output=True,\n",
        "    text=True,\n",
        "    shell=True\n",
        ")\n",
        "\n",
        "print(process.stdout)\n",
        "print(process.stderr)"
      ]
    },
    {
      "cell_type": "markdown",
      "metadata": {
        "id": "rDKlARUUszuD"
      },
      "source": [
        "## Download contigs.fasta"
      ]
    },
    {
      "cell_type": "code",
      "execution_count": null,
      "metadata": {
        "id": "wAUaefNpsyE5"
      },
      "outputs": [],
      "source": [
        "files.download(f'{output_directory}/contigs.fasta')"
      ]
    }
  ],
  "metadata": {
    "colab": {
      "private_outputs": true,
      "provenance": []
    },
    "kernelspec": {
      "display_name": "Python 3",
      "name": "python3"
    },
    "language_info": {
      "name": "python"
    }
  },
  "nbformat": 4,
  "nbformat_minor": 0
}